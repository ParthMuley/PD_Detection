{
 "cells": [
  {
   "cell_type": "code",
   "execution_count": 1,
   "metadata": {},
   "outputs": [],
   "source": [
    "import pandas as pd\n",
    "import pickle\n",
    "from sklearn.impute import KNNImputer\n",
    "import numpy as np\n",
    "import pandas as pd\n",
    "\n",
    "from sklearn.preprocessing import LabelEncoder\n",
    "from sklearn.model_selection import train_test_split\n",
    "from sklearn.svm import SVC\n",
    "from sklearn.metrics import accuracy_score \n",
    "from sklearn.model_selection import cross_val_score, KFold\n",
    "from sklearn.tree import DecisionTreeClassifier\n",
    "from sklearn.ensemble import RandomForestClassifier\n",
    "\n",
    "from sklearn.impute import KNNImputer\n"
   ]
  },
  {
   "cell_type": "code",
   "execution_count": 4,
   "metadata": {},
   "outputs": [],
   "source": [
    "loaded_model_m = pickle.load(open('model_Motor.pkl', 'rb'))\n",
    "loaded_model_nm = pickle.load(open('model_nonMotor.pkl', 'rb'))\n",
    "loaded_model_merged = pickle.load(open('model_Merged.pkl', 'rb'))"
   ]
  },
  {
   "cell_type": "code",
   "execution_count": 5,
   "metadata": {},
   "outputs": [],
   "source": [
    "df_motor=pd.read_csv('motor_final.csv')\n",
    "df_nonMotor=pd.read_csv('non_motor_final.csv')\n",
    "df_motor_merged=pd.read_csv('merged_mnm.csv')"
   ]
  },
  {
   "cell_type": "code",
   "execution_count": 7,
   "metadata": {},
   "outputs": [
    {
     "data": {
      "text/html": [
       "<div>\n",
       "<style scoped>\n",
       "    .dataframe tbody tr th:only-of-type {\n",
       "        vertical-align: middle;\n",
       "    }\n",
       "\n",
       "    .dataframe tbody tr th {\n",
       "        vertical-align: top;\n",
       "    }\n",
       "\n",
       "    .dataframe thead th {\n",
       "        text-align: right;\n",
       "    }\n",
       "</style>\n",
       "<table border=\"1\" class=\"dataframe\">\n",
       "  <thead>\n",
       "    <tr style=\"text-align: right;\">\n",
       "      <th></th>\n",
       "      <th>PATNO</th>\n",
       "      <th>NP1RTOT</th>\n",
       "      <th>NP1PTOT</th>\n",
       "      <th>NP2PTOT</th>\n",
       "      <th>PDTRTMNT</th>\n",
       "      <th>NP3TOT</th>\n",
       "      <th>DYSKPRES</th>\n",
       "      <th>NHY</th>\n",
       "      <th>NP4TOT</th>\n",
       "      <th>MSEADLG</th>\n",
       "      <th>COHORT_x</th>\n",
       "      <th>ENROLL_AGE_x</th>\n",
       "    </tr>\n",
       "  </thead>\n",
       "  <tbody>\n",
       "    <tr>\n",
       "      <th>0</th>\n",
       "      <td>3001.0</td>\n",
       "      <td>3.758621</td>\n",
       "      <td>9.793103</td>\n",
       "      <td>9.896552</td>\n",
       "      <td>0.720000</td>\n",
       "      <td>31.782609</td>\n",
       "      <td>0.166667</td>\n",
       "      <td>1.958333</td>\n",
       "      <td>2.000000</td>\n",
       "      <td>84.482759</td>\n",
       "      <td>0</td>\n",
       "      <td>65.10</td>\n",
       "    </tr>\n",
       "    <tr>\n",
       "      <th>1</th>\n",
       "      <td>3002.0</td>\n",
       "      <td>4.500000</td>\n",
       "      <td>8.571429</td>\n",
       "      <td>17.821429</td>\n",
       "      <td>0.880000</td>\n",
       "      <td>27.166667</td>\n",
       "      <td>0.080000</td>\n",
       "      <td>2.360000</td>\n",
       "      <td>3.130435</td>\n",
       "      <td>77.321429</td>\n",
       "      <td>0</td>\n",
       "      <td>67.60</td>\n",
       "    </tr>\n",
       "    <tr>\n",
       "      <th>2</th>\n",
       "      <td>3003.0</td>\n",
       "      <td>1.500000</td>\n",
       "      <td>10.625000</td>\n",
       "      <td>8.708333</td>\n",
       "      <td>0.571429</td>\n",
       "      <td>40.578947</td>\n",
       "      <td>0.200000</td>\n",
       "      <td>2.250000</td>\n",
       "      <td>2.076923</td>\n",
       "      <td>85.833333</td>\n",
       "      <td>0</td>\n",
       "      <td>56.70</td>\n",
       "    </tr>\n",
       "    <tr>\n",
       "      <th>3</th>\n",
       "      <td>3005.0</td>\n",
       "      <td>1.757143</td>\n",
       "      <td>5.430952</td>\n",
       "      <td>11.066667</td>\n",
       "      <td>0.384333</td>\n",
       "      <td>5.000000</td>\n",
       "      <td>0.000000</td>\n",
       "      <td>0.000000</td>\n",
       "      <td>1.166996</td>\n",
       "      <td>88.349248</td>\n",
       "      <td>0</td>\n",
       "      <td>59.68</td>\n",
       "    </tr>\n",
       "    <tr>\n",
       "      <th>4</th>\n",
       "      <td>3006.0</td>\n",
       "      <td>1.285714</td>\n",
       "      <td>1.000000</td>\n",
       "      <td>9.428571</td>\n",
       "      <td>0.666667</td>\n",
       "      <td>28.857143</td>\n",
       "      <td>0.000000</td>\n",
       "      <td>2.142857</td>\n",
       "      <td>0.000000</td>\n",
       "      <td>92.714286</td>\n",
       "      <td>0</td>\n",
       "      <td>57.50</td>\n",
       "    </tr>\n",
       "  </tbody>\n",
       "</table>\n",
       "</div>"
      ],
      "text/plain": [
       "    PATNO   NP1RTOT    NP1PTOT    NP2PTOT  PDTRTMNT     NP3TOT  DYSKPRES  \\\n",
       "0  3001.0  3.758621   9.793103   9.896552  0.720000  31.782609  0.166667   \n",
       "1  3002.0  4.500000   8.571429  17.821429  0.880000  27.166667  0.080000   \n",
       "2  3003.0  1.500000  10.625000   8.708333  0.571429  40.578947  0.200000   \n",
       "3  3005.0  1.757143   5.430952  11.066667  0.384333   5.000000  0.000000   \n",
       "4  3006.0  1.285714   1.000000   9.428571  0.666667  28.857143  0.000000   \n",
       "\n",
       "        NHY    NP4TOT    MSEADLG  COHORT_x  ENROLL_AGE_x  \n",
       "0  1.958333  2.000000  84.482759         0         65.10  \n",
       "1  2.360000  3.130435  77.321429         0         67.60  \n",
       "2  2.250000  2.076923  85.833333         0         56.70  \n",
       "3  0.000000  1.166996  88.349248         0         59.68  \n",
       "4  2.142857  0.000000  92.714286         0         57.50  "
      ]
     },
     "execution_count": 7,
     "metadata": {},
     "output_type": "execute_result"
    }
   ],
   "source": [
    "df_motor.head()"
   ]
  },
  {
   "cell_type": "code",
   "execution_count": 8,
   "metadata": {},
   "outputs": [],
   "source": [
    "X =  df_motor.drop(['COHORT_x'],axis=1)\n",
    "y= df_motor['COHORT_x']"
   ]
  },
  {
   "cell_type": "code",
   "execution_count": 9,
   "metadata": {},
   "outputs": [],
   "source": [
    "from imblearn.over_sampling import RandomOverSampler\n",
    "oversample = RandomOverSampler(sampling_strategy='minority')\n",
    "X_over, y_over = oversample.fit_resample(X, y)\n",
    "X_train, X_test, y_train, y_test = train_test_split(X_over,y_over , \n",
    "                                   random_state=104,  \n",
    "                                   test_size=0.25,  \n",
    "                                   shuffle=True)"
   ]
  },
  {
   "cell_type": "code",
   "execution_count": 10,
   "metadata": {},
   "outputs": [],
   "source": [
    "result_m = loaded_model_m.score(X_test, y_test)"
   ]
  },
  {
   "cell_type": "code",
   "execution_count": 11,
   "metadata": {},
   "outputs": [],
   "source": [
    "X =  df_nonMotor.drop(['COHORT'],axis=1)\n",
    "y= df_nonMotor['COHORT']"
   ]
  },
  {
   "cell_type": "code",
   "execution_count": 12,
   "metadata": {},
   "outputs": [],
   "source": [
    "from imblearn.over_sampling import RandomOverSampler\n",
    "oversample = RandomOverSampler(sampling_strategy='minority')\n",
    "X_over, y_over = oversample.fit_resample(X, y)\n",
    "X_train, X_test, y_train, y_test = train_test_split(X_over,y_over , \n",
    "                                   random_state=104,  \n",
    "                                   test_size=0.25,  \n",
    "                                   shuffle=True)"
   ]
  },
  {
   "cell_type": "code",
   "execution_count": 13,
   "metadata": {},
   "outputs": [],
   "source": [
    "result_n = loaded_model_nm.score(X_test, y_test)"
   ]
  }
 ],
 "metadata": {
  "kernelspec": {
   "display_name": "Python 3",
   "language": "python",
   "name": "python3"
  },
  "language_info": {
   "codemirror_mode": {
    "name": "ipython",
    "version": 3
   },
   "file_extension": ".py",
   "mimetype": "text/x-python",
   "name": "python",
   "nbconvert_exporter": "python",
   "pygments_lexer": "ipython3",
   "version": "3.12.0"
  }
 },
 "nbformat": 4,
 "nbformat_minor": 2
}
