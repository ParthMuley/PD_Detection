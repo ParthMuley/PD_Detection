{
 "cells": [
  {
   "cell_type": "code",
   "execution_count": 1,
   "metadata": {},
   "outputs": [],
   "source": [
    "import pandas as pd"
   ]
  },
  {
   "cell_type": "markdown",
   "metadata": {},
   "source": [
    "### MDS-UPDRS and Modified Schwab and England ADL"
   ]
  },
  {
   "cell_type": "code",
   "execution_count": 2,
   "metadata": {},
   "outputs": [],
   "source": [
    "path = 'C:\\\\Users\\\\Admin\\\\Desktop\\\\Capstone\\\\All_Files\\\\New_Attempt\\\\'"
   ]
  },
  {
   "cell_type": "code",
   "execution_count": 3,
   "metadata": {},
   "outputs": [],
   "source": [
    "mds1a = pd.read_csv(path + 'MDS_UPDRS_Part_I.csv')\n",
    "mds1b = pd.read_csv(path + 'MDS_UPDRS_Part_I__Patient_Questionnaire.csv')\n",
    "mds2 = pd.read_csv(path + 'MDS_UPDRS_Part_II__Patient_Questionnaire.csv')\n",
    "mds3 = pd.read_csv(path + 'MDS_UPDRS_Part_III.csv')\n",
    "mds4 = pd.read_csv(path + 'MDS-UPDRS_Part_IV__Motor_Complications_15Mar2024.csv')\n",
    "mse = pd.read_csv(path + 'Modified_Schwab___England_Activities_of_Daily_Living_15Mar2024.csv')"
   ]
  },
  {
   "cell_type": "markdown",
   "metadata": {},
   "source": [
    "There are several files that contribute to the overall motor assesment score. The score is the 'Unified Parkinson's Disease Rating Scale' (https://www.movementdisorders.org/MDS-Files1/PDFs/Rating-Scales/MDS-UPDRS_English_FINAL.pdf). All the questions are supposed to reference the patient's experience over the past week."
   ]
  },
  {
   "cell_type": "code",
   "execution_count": 4,
   "metadata": {},
   "outputs": [
    {
     "data": {
      "text/plain": [
       "Index(['REC_ID', 'PATNO', 'EVENT_ID', 'PAG_NAME', 'INFODT', 'MSEADLG',\n",
       "       'ORIG_ENTRY', 'LAST_UPDATE'],\n",
       "      dtype='object')"
      ]
     },
     "execution_count": 4,
     "metadata": {},
     "output_type": "execute_result"
    }
   ],
   "source": [
    "mse.columns"
   ]
  },
  {
   "cell_type": "code",
   "execution_count": 5,
   "metadata": {},
   "outputs": [],
   "source": [
    "# mds1a = mds1a.drop(columns=['REC_ID', 'PAG_NAME', 'NUPSOURC', 'ORIG_ENTRY', 'LAST_UPDATE'])\n",
    "# mds1b = mds1b.drop(columns=['REC_ID', 'PAG_NAME', 'NUPSOURC', 'ORIG_ENTRY', 'LAST_UPDATE'])\n",
    "mds1a = mds1a.loc[:,['PATNO', 'EVENT_ID','NP1RTOT']]\n",
    "mds1b = mds1b.loc[:,['PATNO', 'EVENT_ID','NP1PTOT']]"
   ]
  },
  {
   "cell_type": "code",
   "execution_count": 6,
   "metadata": {},
   "outputs": [],
   "source": [
    "# mds2 = mds2.drop(columns=['REC_ID', 'PAG_NAME', 'NUPSOURC', 'ORIG_ENTRY', 'LAST_UPDATE'])\n",
    "mds2 = mds2.loc[:,['PATNO', 'EVENT_ID','NP2PTOT']]"
   ]
  },
  {
   "cell_type": "code",
   "execution_count": 7,
   "metadata": {},
   "outputs": [],
   "source": [
    "# note that page name for the updrs part 3 should not be dropped because it describes whether on or off testing is performed during annual visits\n",
    "# mds3 = mds3.drop(columns=['REC_ID',  'ORIG_ENTRY', 'LAST_UPDATE'])\n",
    "mds3 = mds3.loc[:,['PATNO', 'EVENT_ID','PDTRTMNT','NP3TOT', 'DYSKPRES', 'NHY']]"
   ]
  },
  {
   "cell_type": "code",
   "execution_count": 8,
   "metadata": {},
   "outputs": [],
   "source": [
    "# mds4 = mds4.drop(columns=['REC_ID', 'PAG_NAME', 'ORIG_ENTRY', 'LAST_UPDATE'])\n",
    "mds4 = mds4.loc[:,['PATNO', 'EVENT_ID','NP4TOT']]"
   ]
  },
  {
   "cell_type": "code",
   "execution_count": 9,
   "metadata": {},
   "outputs": [],
   "source": [
    "# mse = mse.drop(columns=['REC_ID', 'PAG_NAME', 'ORIG_ENTRY', 'LAST_UPDATE'])\n",
    "mse = mse.loc[:,['PATNO', 'EVENT_ID','MSEADLG']]"
   ]
  },
  {
   "cell_type": "code",
   "execution_count": 10,
   "metadata": {},
   "outputs": [],
   "source": [
    "UPDRS = mds1a.merge(mds1b, how='outer', on=['PATNO','EVENT_ID'])\n",
    "UPDRS = UPDRS.merge(mds2, how='outer', on=['PATNO', 'EVENT_ID'])\n",
    "UPDRS = UPDRS.merge(mds3, how='outer', on=['PATNO', 'EVENT_ID'])\n",
    "UPDRS = UPDRS.merge(mds4, how='outer', on=['PATNO', 'EVENT_ID'])\n",
    "UPDRS = UPDRS.merge(mse, how='outer', on=['PATNO', 'EVENT_ID'])"
   ]
  },
  {
   "cell_type": "code",
   "execution_count": 11,
   "metadata": {},
   "outputs": [],
   "source": [
    "# save processed file\n",
    "UPDRS.to_csv('motor.csv')"
   ]
  },
  {
   "cell_type": "code",
   "execution_count": 12,
   "metadata": {},
   "outputs": [],
   "source": [
    "df = pd.read_csv('motor.csv')"
   ]
  },
  {
   "cell_type": "code",
   "execution_count": 14,
   "metadata": {},
   "outputs": [],
   "source": [
    "ps = pd.read_csv(path + 'Patient_Status.csv')\n",
    "df = pd.merge(df,ps, on = 'PATNO' , how = 'inner')\n",
    "\n"
   ]
  },
  {
   "cell_type": "code",
   "execution_count": 17,
   "metadata": {},
   "outputs": [
    {
     "data": {
      "text/plain": [
       "Index(['Unnamed: 0', 'PATNO', 'EVENT_ID', 'NP1RTOT', 'NP1PTOT', 'NP2PTOT',\n",
       "       'PDTRTMNT', 'NP3TOT', 'DYSKPRES', 'NHY', 'NP4TOT', 'MSEADLG',\n",
       "       'COHORT_x', 'COHORT_DEFINITION_x', 'ENROLL_DATE_x', 'ENROLL_STATUS_x',\n",
       "       'STATUS_DATE_x', 'ENROLL_AGE_x', 'INEXPAGE_x', 'AV133STDY_x',\n",
       "       'TAUSTDY_x', 'GAITSTDY_x', 'PISTDY_x', 'SV2ASTDY_x',\n",
       "       'PPMI_ONLINE_ENROLL_x', 'CONCOHORT_x', 'CONCOHORT_DEFINITION_x',\n",
       "       'CONLRRK2_x', 'CONGBA_x', 'CONSNCA_x', 'CONPRKN_x', 'CONPINK1_x',\n",
       "       'CONHPSM_x', 'CONRBD_x', 'PHENOCNV_x', 'DIAG1_x', 'DIAG1VIS_x',\n",
       "       'DIAG2_x', 'DIAG2VIS_x', 'DIAG3_x', 'DIAG3VIS_x', 'COMMENTS_x',\n",
       "       'CONDATE_x', 'ENRLPINK1_x', 'ENRLPRKN_x', 'ENRLSRDC_x', 'ENRLHPSM_x',\n",
       "       'ENRLRBD_x', 'ENRLLRRK2_x', 'ENRLSNCA_x', 'ENRLGBA_x', 'COHORT_y',\n",
       "       'COHORT_DEFINITION_y', 'ENROLL_DATE_y', 'ENROLL_STATUS_y',\n",
       "       'STATUS_DATE_y', 'ENROLL_AGE_y', 'INEXPAGE_y', 'AV133STDY_y',\n",
       "       'TAUSTDY_y', 'GAITSTDY_y', 'PISTDY_y', 'SV2ASTDY_y',\n",
       "       'PPMI_ONLINE_ENROLL_y', 'CONCOHORT_y', 'CONCOHORT_DEFINITION_y',\n",
       "       'CONLRRK2_y', 'CONGBA_y', 'CONSNCA_y', 'CONPRKN_y', 'CONPINK1_y',\n",
       "       'CONHPSM_y', 'CONRBD_y', 'PHENOCNV_y', 'DIAG1_y', 'DIAG1VIS_y',\n",
       "       'DIAG2_y', 'DIAG2VIS_y', 'DIAG3_y', 'DIAG3VIS_y', 'COMMENTS_y',\n",
       "       'CONDATE_y', 'ENRLPINK1_y', 'ENRLPRKN_y', 'ENRLSRDC_y', 'ENRLHPSM_y',\n",
       "       'ENRLRBD_y', 'ENRLLRRK2_y', 'ENRLSNCA_y', 'ENRLGBA_y'],\n",
       "      dtype='object')"
      ]
     },
     "execution_count": 17,
     "metadata": {},
     "output_type": "execute_result"
    }
   ],
   "source": [
    "df.columns"
   ]
  },
  {
   "cell_type": "code",
   "execution_count": 18,
   "metadata": {},
   "outputs": [],
   "source": [
    "df.drop(['ENROLL_DATE_x', 'ENROLL_STATUS_x',\n",
    "       'STATUS_DATE_x', 'INEXPAGE_x', 'AV133STDY_x',\n",
    "       'TAUSTDY_x', 'GAITSTDY_x', 'PISTDY_x', 'SV2ASTDY_x',\n",
    "       'PPMI_ONLINE_ENROLL_x', 'CONCOHORT_x', 'CONCOHORT_DEFINITION_x',\n",
    "       'CONLRRK2_x', 'CONGBA_x', 'CONSNCA_x', 'CONPRKN_x', 'CONPINK1_x',\n",
    "       'CONHPSM_x', 'CONRBD_x', 'PHENOCNV_x', 'DIAG1_x', 'DIAG1VIS_x',\n",
    "       'DIAG2_x', 'DIAG2VIS_x', 'DIAG3_x', 'DIAG3VIS_x', 'COMMENTS_x',\n",
    "       'CONDATE_x', 'ENRLPINK1_x', 'ENRLPRKN_x', 'ENRLSRDC_x', 'ENRLHPSM_x',\n",
    "       'ENRLRBD_x', 'ENRLLRRK2_x', 'ENRLSNCA_x', 'ENRLGBA_x', 'COHORT_y',\n",
    "       'COHORT_DEFINITION_y', 'ENROLL_DATE_y', 'ENROLL_STATUS_y',\n",
    "       'STATUS_DATE_y', 'ENROLL_AGE_y', 'INEXPAGE_y', 'AV133STDY_y',\n",
    "       'TAUSTDY_y', 'GAITSTDY_y', 'PISTDY_y', 'SV2ASTDY_y',\n",
    "       'PPMI_ONLINE_ENROLL_y', 'CONCOHORT_y', 'CONCOHORT_DEFINITION_y',\n",
    "       'CONLRRK2_y', 'CONGBA_y', 'CONSNCA_y', 'CONPRKN_y', 'CONPINK1_y',\n",
    "       'CONHPSM_y', 'CONRBD_y', 'PHENOCNV_y', 'DIAG1_y', 'DIAG1VIS_y',\n",
    "       'DIAG2_y', 'DIAG2VIS_y', 'DIAG3_y', 'DIAG3VIS_y', 'COMMENTS_y',\n",
    "       'CONDATE_y', 'ENRLPINK1_y', 'ENRLPRKN_y', 'ENRLSRDC_y', 'ENRLHPSM_y',\n",
    "       'ENRLRBD_y', 'ENRLLRRK2_y', 'ENRLSNCA_y', 'ENRLGBA_y'], axis =1, inplace=True)"
   ]
  },
  {
   "cell_type": "code",
   "execution_count": 19,
   "metadata": {},
   "outputs": [
    {
     "data": {
      "text/plain": [
       "Index(['Unnamed: 0', 'PATNO', 'EVENT_ID', 'NP1RTOT', 'NP1PTOT', 'NP2PTOT',\n",
       "       'PDTRTMNT', 'NP3TOT', 'DYSKPRES', 'NHY', 'NP4TOT', 'MSEADLG',\n",
       "       'COHORT_x', 'COHORT_DEFINITION_x', 'ENROLL_AGE_x'],\n",
       "      dtype='object')"
      ]
     },
     "execution_count": 19,
     "metadata": {},
     "output_type": "execute_result"
    }
   ],
   "source": [
    "df.columns"
   ]
  },
  {
   "cell_type": "code",
   "execution_count": 20,
   "metadata": {},
   "outputs": [],
   "source": [
    "df.to_csv('MOTOR_F.csv')"
   ]
  },
  {
   "cell_type": "code",
   "execution_count": 21,
   "metadata": {},
   "outputs": [],
   "source": [
    "for cohort_value in df['COHORT_x'].unique():\n",
    "    # Filter the DataFrame based on cohort value\n",
    "    cohort_df = df[df['COHORT_x'] == cohort_value]\n",
    "    \n",
    "    # Save the filtered DataFrame to a new CSV file\n",
    "    cohort_df.to_csv(f'MOTOR_COHORT_{cohort_value}_data.csv',index=False)"
   ]
  }
 ],
 "metadata": {
  "kernelspec": {
   "display_name": "Python 3",
   "language": "python",
   "name": "python3"
  },
  "language_info": {
   "codemirror_mode": {
    "name": "ipython",
    "version": 3
   },
   "file_extension": ".py",
   "mimetype": "text/x-python",
   "name": "python",
   "nbconvert_exporter": "python",
   "pygments_lexer": "ipython3",
   "version": "3.11.4"
  }
 },
 "nbformat": 4,
 "nbformat_minor": 2
}
