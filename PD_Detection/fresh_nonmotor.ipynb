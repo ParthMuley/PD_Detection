{
 "cells": [
  {
   "cell_type": "code",
   "execution_count": 33,
   "metadata": {},
   "outputs": [
    {
     "name": "stdout",
     "output_type": "stream",
     "text": [
      "Requirement already satisfied: scikit-learn in c:\\users\\admin\\appdata\\local\\programs\\python\\python311\\lib\\site-packages (1.4.1.post1)\n",
      "Requirement already satisfied: numpy<2.0,>=1.19.5 in c:\\users\\admin\\appdata\\local\\programs\\python\\python311\\lib\\site-packages (from scikit-learn) (1.25.2)\n",
      "Requirement already satisfied: scipy>=1.6.0 in c:\\users\\admin\\appdata\\local\\programs\\python\\python311\\lib\\site-packages (from scikit-learn) (1.11.1)\n",
      "Requirement already satisfied: joblib>=1.2.0 in c:\\users\\admin\\appdata\\roaming\\python\\python311\\site-packages (from scikit-learn) (1.3.2)\n",
      "Requirement already satisfied: threadpoolctl>=2.0.0 in c:\\users\\admin\\appdata\\local\\programs\\python\\python311\\lib\\site-packages (from scikit-learn) (3.3.0)\n",
      "Note: you may need to restart the kernel to use updated packages.\n"
     ]
    }
   ],
   "source": [
    "pip install scikit-learn\n"
   ]
  },
  {
   "cell_type": "code",
   "execution_count": 34,
   "metadata": {},
   "outputs": [],
   "source": [
    "import numpy as np\n",
    "import pandas as pd\n",
    "\n",
    "from sklearn.preprocessing import LabelEncoder\n",
    "from sklearn.model_selection import train_test_split\n",
    "from sklearn.svm import SVC\n",
    "from sklearn.metrics import accuracy_score \n",
    "from sklearn.model_selection import cross_val_score, KFold\n",
    "from sklearn.tree import DecisionTreeClassifier\n",
    "from sklearn.ensemble import RandomForestClassifier\n",
    "\n",
    "from sklearn.impute import KNNImputer"
   ]
  },
  {
   "cell_type": "code",
   "execution_count": 35,
   "metadata": {},
   "outputs": [],
   "source": [
    "df1 = pd.read_csv('COHORT_1_data.csv',usecols=['PATNO','ENROLL_AGE', 'SDMTOTAL', 'STAI_TOT', 'SFT_TOT', 'SCOPA_AUT_TOT',\n",
    "       'REMSLEEP_TOT', 'QUIP_A', 'QUIP_B', 'QUIP_C', 'QUIP_D', 'QUIP_E',\n",
    "       'MoCA_score', 'LNS_TOT', 'HVLT_TOT_Recall', 'HVLT_DCR_REC',\n",
    "       'HVLT_RETENTION', 'GDS_TOT', 'GDS_Depressed', 'ESS_TOT', 'ESS_Sleepy',\n",
    "       'BJLOT_TOT', 'COHORT'])\n",
    "df2 = pd.read_csv('COHORT_2_data.csv',usecols=['PATNO','ENROLL_AGE', 'SDMTOTAL', 'STAI_TOT', 'SFT_TOT', 'SCOPA_AUT_TOT',\n",
    "       'REMSLEEP_TOT', 'QUIP_A', 'QUIP_B', 'QUIP_C', 'QUIP_D', 'QUIP_E',\n",
    "       'MoCA_score', 'LNS_TOT', 'HVLT_TOT_Recall', 'HVLT_DCR_REC',\n",
    "       'HVLT_RETENTION', 'GDS_TOT', 'GDS_Depressed', 'ESS_TOT', 'ESS_Sleepy',\n",
    "       'BJLOT_TOT', 'COHORT'])\n",
    "df3 = pd.read_csv('COHORT_3_data.csv',usecols=['PATNO','ENROLL_AGE', 'SDMTOTAL', 'STAI_TOT', 'SFT_TOT', 'SCOPA_AUT_TOT',\n",
    "       'REMSLEEP_TOT', 'QUIP_A', 'QUIP_B', 'QUIP_C', 'QUIP_D', 'QUIP_E',\n",
    "       'MoCA_score', 'LNS_TOT', 'HVLT_TOT_Recall', 'HVLT_DCR_REC',\n",
    "       'HVLT_RETENTION', 'GDS_TOT', 'GDS_Depressed', 'ESS_TOT', 'ESS_Sleepy',\n",
    "       'BJLOT_TOT', 'COHORT'])\n",
    "df4 = pd.read_csv('COHORT_4_data.csv',usecols=['PATNO','ENROLL_AGE', 'SDMTOTAL', 'STAI_TOT', 'SFT_TOT', 'SCOPA_AUT_TOT',\n",
    "       'REMSLEEP_TOT', 'QUIP_A', 'QUIP_B', 'QUIP_C', 'QUIP_D', 'QUIP_E',\n",
    "       'MoCA_score', 'LNS_TOT', 'HVLT_TOT_Recall', 'HVLT_DCR_REC',\n",
    "       'HVLT_RETENTION', 'GDS_TOT', 'GDS_Depressed', 'ESS_TOT', 'ESS_Sleepy',\n",
    "       'BJLOT_TOT', 'COHORT'])"
   ]
  },
  {
   "cell_type": "code",
   "execution_count": 36,
   "metadata": {},
   "outputs": [
    {
     "data": {
      "text/plain": [
       "Index(['PATNO', 'SDMTOTAL', 'STAI_TOT', 'SFT_TOT', 'SCOPA_AUT_TOT',\n",
       "       'REMSLEEP_TOT', 'QUIP_A', 'QUIP_B', 'QUIP_C', 'QUIP_D', 'QUIP_E',\n",
       "       'MoCA_score', 'LNS_TOT', 'HVLT_TOT_Recall', 'HVLT_DCR_REC',\n",
       "       'HVLT_RETENTION', 'GDS_TOT', 'GDS_Depressed', 'ESS_TOT', 'ESS_Sleepy',\n",
       "       'BJLOT_TOT', 'COHORT', 'ENROLL_AGE'],\n",
       "      dtype='object')"
      ]
     },
     "execution_count": 36,
     "metadata": {},
     "output_type": "execute_result"
    }
   ],
   "source": [
    "df3.columns"
   ]
  },
  {
   "cell_type": "code",
   "execution_count": 37,
   "metadata": {},
   "outputs": [
    {
     "name": "stderr",
     "output_type": "stream",
     "text": [
      "c:\\Users\\Admin\\AppData\\Local\\Programs\\Python\\Python311\\Lib\\site-packages\\numpy\\lib\\nanfunctions.py:1215: RuntimeWarning: Mean of empty slice\n",
      "  return np.nanmean(a, axis, out=out, keepdims=keepdims)\n",
      "c:\\Users\\Admin\\AppData\\Local\\Programs\\Python\\Python311\\Lib\\site-packages\\numpy\\lib\\nanfunctions.py:1215: RuntimeWarning: Mean of empty slice\n",
      "  return np.nanmean(a, axis, out=out, keepdims=keepdims)\n",
      "c:\\Users\\Admin\\AppData\\Local\\Programs\\Python\\Python311\\Lib\\site-packages\\numpy\\lib\\nanfunctions.py:1215: RuntimeWarning: Mean of empty slice\n",
      "  return np.nanmean(a, axis, out=out, keepdims=keepdims)\n",
      "c:\\Users\\Admin\\AppData\\Local\\Programs\\Python\\Python311\\Lib\\site-packages\\numpy\\lib\\nanfunctions.py:1215: RuntimeWarning: Mean of empty slice\n",
      "  return np.nanmean(a, axis, out=out, keepdims=keepdims)\n",
      "c:\\Users\\Admin\\AppData\\Local\\Programs\\Python\\Python311\\Lib\\site-packages\\numpy\\lib\\nanfunctions.py:1215: RuntimeWarning: Mean of empty slice\n",
      "  return np.nanmean(a, axis, out=out, keepdims=keepdims)\n",
      "c:\\Users\\Admin\\AppData\\Local\\Programs\\Python\\Python311\\Lib\\site-packages\\numpy\\lib\\nanfunctions.py:1215: RuntimeWarning: Mean of empty slice\n",
      "  return np.nanmean(a, axis, out=out, keepdims=keepdims)\n",
      "c:\\Users\\Admin\\AppData\\Local\\Programs\\Python\\Python311\\Lib\\site-packages\\numpy\\lib\\nanfunctions.py:1215: RuntimeWarning: Mean of empty slice\n",
      "  return np.nanmean(a, axis, out=out, keepdims=keepdims)\n",
      "c:\\Users\\Admin\\AppData\\Local\\Programs\\Python\\Python311\\Lib\\site-packages\\numpy\\lib\\nanfunctions.py:1215: RuntimeWarning: Mean of empty slice\n",
      "  return np.nanmean(a, axis, out=out, keepdims=keepdims)\n",
      "c:\\Users\\Admin\\AppData\\Local\\Programs\\Python\\Python311\\Lib\\site-packages\\numpy\\lib\\nanfunctions.py:1215: RuntimeWarning: Mean of empty slice\n",
      "  return np.nanmean(a, axis, out=out, keepdims=keepdims)\n",
      "c:\\Users\\Admin\\AppData\\Local\\Programs\\Python\\Python311\\Lib\\site-packages\\numpy\\lib\\nanfunctions.py:1215: RuntimeWarning: Mean of empty slice\n",
      "  return np.nanmean(a, axis, out=out, keepdims=keepdims)\n",
      "c:\\Users\\Admin\\AppData\\Local\\Programs\\Python\\Python311\\Lib\\site-packages\\numpy\\lib\\nanfunctions.py:1215: RuntimeWarning: Mean of empty slice\n",
      "  return np.nanmean(a, axis, out=out, keepdims=keepdims)\n",
      "c:\\Users\\Admin\\AppData\\Local\\Programs\\Python\\Python311\\Lib\\site-packages\\numpy\\lib\\nanfunctions.py:1215: RuntimeWarning: Mean of empty slice\n",
      "  return np.nanmean(a, axis, out=out, keepdims=keepdims)\n",
      "c:\\Users\\Admin\\AppData\\Local\\Programs\\Python\\Python311\\Lib\\site-packages\\numpy\\lib\\nanfunctions.py:1215: RuntimeWarning: Mean of empty slice\n",
      "  return np.nanmean(a, axis, out=out, keepdims=keepdims)\n",
      "c:\\Users\\Admin\\AppData\\Local\\Programs\\Python\\Python311\\Lib\\site-packages\\numpy\\lib\\nanfunctions.py:1215: RuntimeWarning: Mean of empty slice\n",
      "  return np.nanmean(a, axis, out=out, keepdims=keepdims)\n",
      "c:\\Users\\Admin\\AppData\\Local\\Programs\\Python\\Python311\\Lib\\site-packages\\numpy\\lib\\nanfunctions.py:1215: RuntimeWarning: Mean of empty slice\n",
      "  return np.nanmean(a, axis, out=out, keepdims=keepdims)\n",
      "c:\\Users\\Admin\\AppData\\Local\\Programs\\Python\\Python311\\Lib\\site-packages\\numpy\\lib\\nanfunctions.py:1215: RuntimeWarning: Mean of empty slice\n",
      "  return np.nanmean(a, axis, out=out, keepdims=keepdims)\n",
      "c:\\Users\\Admin\\AppData\\Local\\Programs\\Python\\Python311\\Lib\\site-packages\\numpy\\lib\\nanfunctions.py:1215: RuntimeWarning: Mean of empty slice\n",
      "  return np.nanmean(a, axis, out=out, keepdims=keepdims)\n"
     ]
    }
   ],
   "source": [
    "# Define a function to fill missing values and apply KNN imputation\n",
    "def fill_missing_and_impute(df):\n",
    "    # Group DataFrame by 'PATNO' and fill missing values with median within each group\n",
    "    grouped_df = df.groupby('PATNO').transform(lambda x: x.fillna(x.median()))\n",
    "\n",
    "    # Add 'PATNO' column back to the filled DataFrame\n",
    "    df_filled = pd.concat([df['PATNO'], grouped_df], axis=1)\n",
    "\n",
    "    # Calculate the mean of each feature after filling missing values\n",
    "    grouped_mean_df = df_filled.groupby('PATNO').mean().reset_index()\n",
    "\n",
    "    # Apply KNN imputation to handle remaining missing values\n",
    "    knn = KNNImputer()\n",
    "    grouped_mean_df = pd.DataFrame(knn.fit_transform(grouped_mean_df), columns=grouped_mean_df.columns)\n",
    "    \n",
    "    return grouped_mean_df\n",
    "\n",
    "# Apply the function to all four dataframes\n",
    "df1_filled = fill_missing_and_impute(df1)\n",
    "df2_filled = fill_missing_and_impute(df2)\n",
    "df3_filled = fill_missing_and_impute(df3)\n",
    "df4_filled = fill_missing_and_impute(df4)"
   ]
  },
  {
   "cell_type": "code",
   "execution_count": 38,
   "metadata": {},
   "outputs": [],
   "source": [
    "f = pd.concat([df1_filled,df2_filled,df3_filled,df4_filled])"
   ]
  },
  {
   "cell_type": "code",
   "execution_count": 39,
   "metadata": {},
   "outputs": [],
   "source": [
    "le = LabelEncoder()\n",
    "f['COHORT'] = le.fit_transform(f['COHORT'])"
   ]
  },
  {
   "cell_type": "code",
   "execution_count": 40,
   "metadata": {},
   "outputs": [],
   "source": [
    "f = f.round(2)"
   ]
  },
  {
   "cell_type": "code",
   "execution_count": 41,
   "metadata": {},
   "outputs": [
    {
     "data": {
      "text/html": [
       "<div>\n",
       "<style scoped>\n",
       "    .dataframe tbody tr th:only-of-type {\n",
       "        vertical-align: middle;\n",
       "    }\n",
       "\n",
       "    .dataframe tbody tr th {\n",
       "        vertical-align: top;\n",
       "    }\n",
       "\n",
       "    .dataframe thead th {\n",
       "        text-align: right;\n",
       "    }\n",
       "</style>\n",
       "<table border=\"1\" class=\"dataframe\">\n",
       "  <thead>\n",
       "    <tr style=\"text-align: right;\">\n",
       "      <th></th>\n",
       "      <th>PATNO</th>\n",
       "      <th>SDMTOTAL</th>\n",
       "      <th>STAI_TOT</th>\n",
       "      <th>SFT_TOT</th>\n",
       "      <th>SCOPA_AUT_TOT</th>\n",
       "      <th>REMSLEEP_TOT</th>\n",
       "      <th>QUIP_A</th>\n",
       "      <th>QUIP_B</th>\n",
       "      <th>QUIP_C</th>\n",
       "      <th>QUIP_D</th>\n",
       "      <th>...</th>\n",
       "      <th>HVLT_TOT_Recall</th>\n",
       "      <th>HVLT_DCR_REC</th>\n",
       "      <th>HVLT_RETENTION</th>\n",
       "      <th>GDS_TOT</th>\n",
       "      <th>GDS_Depressed</th>\n",
       "      <th>ESS_TOT</th>\n",
       "      <th>ESS_Sleepy</th>\n",
       "      <th>BJLOT_TOT</th>\n",
       "      <th>COHORT</th>\n",
       "      <th>ENROLL_AGE</th>\n",
       "    </tr>\n",
       "  </thead>\n",
       "  <tbody>\n",
       "    <tr>\n",
       "      <th>1425</th>\n",
       "      <td>224747.0</td>\n",
       "      <td>44.00</td>\n",
       "      <td>66.00</td>\n",
       "      <td>24.00</td>\n",
       "      <td>17.00</td>\n",
       "      <td>12.00</td>\n",
       "      <td>0.00</td>\n",
       "      <td>0.0</td>\n",
       "      <td>0.0</td>\n",
       "      <td>1.00</td>\n",
       "      <td>...</td>\n",
       "      <td>28.00</td>\n",
       "      <td>11.00</td>\n",
       "      <td>0.91</td>\n",
       "      <td>0.00</td>\n",
       "      <td>0.00</td>\n",
       "      <td>7.00</td>\n",
       "      <td>0.00</td>\n",
       "      <td>13.00</td>\n",
       "      <td>3</td>\n",
       "      <td>70.7</td>\n",
       "    </tr>\n",
       "    <tr>\n",
       "      <th>1727</th>\n",
       "      <td>294091.0</td>\n",
       "      <td>34.00</td>\n",
       "      <td>40.00</td>\n",
       "      <td>15.00</td>\n",
       "      <td>3.00</td>\n",
       "      <td>12.00</td>\n",
       "      <td>0.00</td>\n",
       "      <td>0.0</td>\n",
       "      <td>0.0</td>\n",
       "      <td>0.00</td>\n",
       "      <td>...</td>\n",
       "      <td>19.00</td>\n",
       "      <td>12.00</td>\n",
       "      <td>0.78</td>\n",
       "      <td>0.00</td>\n",
       "      <td>0.00</td>\n",
       "      <td>1.00</td>\n",
       "      <td>0.00</td>\n",
       "      <td>14.00</td>\n",
       "      <td>3</td>\n",
       "      <td>64.1</td>\n",
       "    </tr>\n",
       "    <tr>\n",
       "      <th>981</th>\n",
       "      <td>166389.0</td>\n",
       "      <td>44.00</td>\n",
       "      <td>58.00</td>\n",
       "      <td>23.00</td>\n",
       "      <td>11.00</td>\n",
       "      <td>1.00</td>\n",
       "      <td>0.00</td>\n",
       "      <td>0.0</td>\n",
       "      <td>0.0</td>\n",
       "      <td>0.00</td>\n",
       "      <td>...</td>\n",
       "      <td>23.00</td>\n",
       "      <td>12.00</td>\n",
       "      <td>1.11</td>\n",
       "      <td>2.00</td>\n",
       "      <td>0.00</td>\n",
       "      <td>9.00</td>\n",
       "      <td>0.00</td>\n",
       "      <td>15.00</td>\n",
       "      <td>3</td>\n",
       "      <td>76.5</td>\n",
       "    </tr>\n",
       "    <tr>\n",
       "      <th>1001</th>\n",
       "      <td>124793.0</td>\n",
       "      <td>49.50</td>\n",
       "      <td>41.00</td>\n",
       "      <td>18.00</td>\n",
       "      <td>4.50</td>\n",
       "      <td>4.50</td>\n",
       "      <td>0.00</td>\n",
       "      <td>0.0</td>\n",
       "      <td>0.0</td>\n",
       "      <td>0.00</td>\n",
       "      <td>...</td>\n",
       "      <td>23.50</td>\n",
       "      <td>10.50</td>\n",
       "      <td>0.64</td>\n",
       "      <td>1.00</td>\n",
       "      <td>0.00</td>\n",
       "      <td>4.50</td>\n",
       "      <td>0.00</td>\n",
       "      <td>14.50</td>\n",
       "      <td>0</td>\n",
       "      <td>60.4</td>\n",
       "    </tr>\n",
       "    <tr>\n",
       "      <th>411</th>\n",
       "      <td>60044.0</td>\n",
       "      <td>31.43</td>\n",
       "      <td>46.71</td>\n",
       "      <td>49.43</td>\n",
       "      <td>11.36</td>\n",
       "      <td>8.00</td>\n",
       "      <td>0.14</td>\n",
       "      <td>1.0</td>\n",
       "      <td>0.0</td>\n",
       "      <td>0.14</td>\n",
       "      <td>...</td>\n",
       "      <td>22.71</td>\n",
       "      <td>9.43</td>\n",
       "      <td>0.76</td>\n",
       "      <td>2.50</td>\n",
       "      <td>0.14</td>\n",
       "      <td>8.64</td>\n",
       "      <td>0.29</td>\n",
       "      <td>12.00</td>\n",
       "      <td>3</td>\n",
       "      <td>73.0</td>\n",
       "    </tr>\n",
       "    <tr>\n",
       "      <th>93</th>\n",
       "      <td>3368.0</td>\n",
       "      <td>47.83</td>\n",
       "      <td>81.00</td>\n",
       "      <td>56.17</td>\n",
       "      <td>10.67</td>\n",
       "      <td>4.00</td>\n",
       "      <td>0.00</td>\n",
       "      <td>0.0</td>\n",
       "      <td>0.0</td>\n",
       "      <td>0.00</td>\n",
       "      <td>...</td>\n",
       "      <td>35.00</td>\n",
       "      <td>12.00</td>\n",
       "      <td>1.00</td>\n",
       "      <td>5.50</td>\n",
       "      <td>0.67</td>\n",
       "      <td>7.17</td>\n",
       "      <td>0.00</td>\n",
       "      <td>14.67</td>\n",
       "      <td>1</td>\n",
       "      <td>53.2</td>\n",
       "    </tr>\n",
       "    <tr>\n",
       "      <th>96</th>\n",
       "      <td>40601.0</td>\n",
       "      <td>17.57</td>\n",
       "      <td>69.50</td>\n",
       "      <td>37.86</td>\n",
       "      <td>21.00</td>\n",
       "      <td>0.14</td>\n",
       "      <td>0.00</td>\n",
       "      <td>0.0</td>\n",
       "      <td>0.0</td>\n",
       "      <td>0.00</td>\n",
       "      <td>...</td>\n",
       "      <td>10.71</td>\n",
       "      <td>6.86</td>\n",
       "      <td>0.61</td>\n",
       "      <td>1.86</td>\n",
       "      <td>0.00</td>\n",
       "      <td>0.29</td>\n",
       "      <td>0.00</td>\n",
       "      <td>10.43</td>\n",
       "      <td>3</td>\n",
       "      <td>81.4</td>\n",
       "    </tr>\n",
       "    <tr>\n",
       "      <th>1058</th>\n",
       "      <td>140258.0</td>\n",
       "      <td>37.00</td>\n",
       "      <td>44.00</td>\n",
       "      <td>16.00</td>\n",
       "      <td>13.50</td>\n",
       "      <td>9.50</td>\n",
       "      <td>0.00</td>\n",
       "      <td>0.0</td>\n",
       "      <td>0.0</td>\n",
       "      <td>0.00</td>\n",
       "      <td>...</td>\n",
       "      <td>28.00</td>\n",
       "      <td>10.50</td>\n",
       "      <td>0.87</td>\n",
       "      <td>0.00</td>\n",
       "      <td>0.00</td>\n",
       "      <td>5.50</td>\n",
       "      <td>0.00</td>\n",
       "      <td>13.00</td>\n",
       "      <td>0</td>\n",
       "      <td>76.7</td>\n",
       "    </tr>\n",
       "    <tr>\n",
       "      <th>559</th>\n",
       "      <td>74739.0</td>\n",
       "      <td>31.67</td>\n",
       "      <td>51.42</td>\n",
       "      <td>35.67</td>\n",
       "      <td>4.67</td>\n",
       "      <td>4.33</td>\n",
       "      <td>0.00</td>\n",
       "      <td>0.0</td>\n",
       "      <td>0.0</td>\n",
       "      <td>0.00</td>\n",
       "      <td>...</td>\n",
       "      <td>23.67</td>\n",
       "      <td>10.08</td>\n",
       "      <td>0.76</td>\n",
       "      <td>0.00</td>\n",
       "      <td>0.00</td>\n",
       "      <td>1.67</td>\n",
       "      <td>0.00</td>\n",
       "      <td>10.92</td>\n",
       "      <td>3</td>\n",
       "      <td>58.1</td>\n",
       "    </tr>\n",
       "    <tr>\n",
       "      <th>1422</th>\n",
       "      <td>224394.0</td>\n",
       "      <td>32.00</td>\n",
       "      <td>46.00</td>\n",
       "      <td>17.00</td>\n",
       "      <td>7.00</td>\n",
       "      <td>13.00</td>\n",
       "      <td>0.00</td>\n",
       "      <td>0.0</td>\n",
       "      <td>0.0</td>\n",
       "      <td>0.00</td>\n",
       "      <td>...</td>\n",
       "      <td>18.00</td>\n",
       "      <td>7.00</td>\n",
       "      <td>0.50</td>\n",
       "      <td>0.00</td>\n",
       "      <td>0.00</td>\n",
       "      <td>3.00</td>\n",
       "      <td>0.00</td>\n",
       "      <td>11.00</td>\n",
       "      <td>3</td>\n",
       "      <td>71.7</td>\n",
       "    </tr>\n",
       "  </tbody>\n",
       "</table>\n",
       "<p>10 rows × 23 columns</p>\n",
       "</div>"
      ],
      "text/plain": [
       "         PATNO  SDMTOTAL  STAI_TOT  SFT_TOT  SCOPA_AUT_TOT  REMSLEEP_TOT  \\\n",
       "1425  224747.0     44.00     66.00    24.00          17.00         12.00   \n",
       "1727  294091.0     34.00     40.00    15.00           3.00         12.00   \n",
       "981   166389.0     44.00     58.00    23.00          11.00          1.00   \n",
       "1001  124793.0     49.50     41.00    18.00           4.50          4.50   \n",
       "411    60044.0     31.43     46.71    49.43          11.36          8.00   \n",
       "93      3368.0     47.83     81.00    56.17          10.67          4.00   \n",
       "96     40601.0     17.57     69.50    37.86          21.00          0.14   \n",
       "1058  140258.0     37.00     44.00    16.00          13.50          9.50   \n",
       "559    74739.0     31.67     51.42    35.67           4.67          4.33   \n",
       "1422  224394.0     32.00     46.00    17.00           7.00         13.00   \n",
       "\n",
       "      QUIP_A  QUIP_B  QUIP_C  QUIP_D  ...  HVLT_TOT_Recall  HVLT_DCR_REC  \\\n",
       "1425    0.00     0.0     0.0    1.00  ...            28.00         11.00   \n",
       "1727    0.00     0.0     0.0    0.00  ...            19.00         12.00   \n",
       "981     0.00     0.0     0.0    0.00  ...            23.00         12.00   \n",
       "1001    0.00     0.0     0.0    0.00  ...            23.50         10.50   \n",
       "411     0.14     1.0     0.0    0.14  ...            22.71          9.43   \n",
       "93      0.00     0.0     0.0    0.00  ...            35.00         12.00   \n",
       "96      0.00     0.0     0.0    0.00  ...            10.71          6.86   \n",
       "1058    0.00     0.0     0.0    0.00  ...            28.00         10.50   \n",
       "559     0.00     0.0     0.0    0.00  ...            23.67         10.08   \n",
       "1422    0.00     0.0     0.0    0.00  ...            18.00          7.00   \n",
       "\n",
       "      HVLT_RETENTION  GDS_TOT  GDS_Depressed  ESS_TOT  ESS_Sleepy  BJLOT_TOT  \\\n",
       "1425            0.91     0.00           0.00     7.00        0.00      13.00   \n",
       "1727            0.78     0.00           0.00     1.00        0.00      14.00   \n",
       "981             1.11     2.00           0.00     9.00        0.00      15.00   \n",
       "1001            0.64     1.00           0.00     4.50        0.00      14.50   \n",
       "411             0.76     2.50           0.14     8.64        0.29      12.00   \n",
       "93              1.00     5.50           0.67     7.17        0.00      14.67   \n",
       "96              0.61     1.86           0.00     0.29        0.00      10.43   \n",
       "1058            0.87     0.00           0.00     5.50        0.00      13.00   \n",
       "559             0.76     0.00           0.00     1.67        0.00      10.92   \n",
       "1422            0.50     0.00           0.00     3.00        0.00      11.00   \n",
       "\n",
       "      COHORT  ENROLL_AGE  \n",
       "1425       3        70.7  \n",
       "1727       3        64.1  \n",
       "981        3        76.5  \n",
       "1001       0        60.4  \n",
       "411        3        73.0  \n",
       "93         1        53.2  \n",
       "96         3        81.4  \n",
       "1058       0        76.7  \n",
       "559        3        58.1  \n",
       "1422       3        71.7  \n",
       "\n",
       "[10 rows x 23 columns]"
      ]
     },
     "execution_count": 41,
     "metadata": {},
     "output_type": "execute_result"
    }
   ],
   "source": [
    "f.sample(10)"
   ]
  },
  {
   "cell_type": "code",
   "execution_count": 42,
   "metadata": {},
   "outputs": [
    {
     "name": "stdout",
     "output_type": "stream",
     "text": [
      "PATNO              0.167667\n",
      "SDMTOTAL           0.179094\n",
      "STAI_TOT          -0.131190\n",
      "SFT_TOT           -0.043925\n",
      "SCOPA_AUT_TOT     -0.079895\n",
      "REMSLEEP_TOT       0.093589\n",
      "QUIP_A            -0.033851\n",
      "QUIP_B            -0.021043\n",
      "QUIP_C             0.010798\n",
      "QUIP_D             0.070978\n",
      "QUIP_E             0.012712\n",
      "MoCA_score         0.027153\n",
      "LNS_TOT            0.094345\n",
      "HVLT_TOT_Recall    0.047585\n",
      "HVLT_DCR_REC       0.036583\n",
      "HVLT_RETENTION     0.013572\n",
      "GDS_TOT           -0.129472\n",
      "GDS_Depressed     -0.092157\n",
      "ESS_TOT           -0.074470\n",
      "ESS_Sleepy        -0.078891\n",
      "BJLOT_TOT          0.069143\n",
      "COHORT             1.000000\n",
      "ENROLL_AGE         0.196641\n",
      "Name: COHORT, dtype: float64\n"
     ]
    }
   ],
   "source": [
    "# Calculate the correlation matrix\n",
    "correlation_matrix = f.corr()\n",
    "\n",
    "# Get the correlation of 'cohort' with all other categories\n",
    "cohort_correlation = correlation_matrix['COHORT']\n",
    "\n",
    "print(cohort_correlation)"
   ]
  },
  {
   "cell_type": "code",
   "execution_count": 43,
   "metadata": {},
   "outputs": [],
   "source": [
    "# Convert all columns from float to integer\n",
    "# f = f.apply(pd.to_numeric, errors='coerce').fillna(0).astype(int)\n",
    "# f= f.round(2)"
   ]
  },
  {
   "cell_type": "code",
   "execution_count": 44,
   "metadata": {},
   "outputs": [
    {
     "data": {
      "text/plain": [
       "Index(['PATNO', 'SDMTOTAL', 'STAI_TOT', 'SFT_TOT', 'SCOPA_AUT_TOT',\n",
       "       'REMSLEEP_TOT', 'QUIP_A', 'QUIP_B', 'QUIP_C', 'QUIP_D', 'QUIP_E',\n",
       "       'MoCA_score', 'LNS_TOT', 'HVLT_TOT_Recall', 'HVLT_DCR_REC',\n",
       "       'HVLT_RETENTION', 'GDS_TOT', 'GDS_Depressed', 'ESS_TOT', 'ESS_Sleepy',\n",
       "       'BJLOT_TOT', 'COHORT', 'ENROLL_AGE'],\n",
       "      dtype='object')"
      ]
     },
     "execution_count": 44,
     "metadata": {},
     "output_type": "execute_result"
    }
   ],
   "source": [
    "f.columns"
   ]
  },
  {
   "cell_type": "code",
   "execution_count": 45,
   "metadata": {},
   "outputs": [
    {
     "data": {
      "text/html": [
       "<div>\n",
       "<style scoped>\n",
       "    .dataframe tbody tr th:only-of-type {\n",
       "        vertical-align: middle;\n",
       "    }\n",
       "\n",
       "    .dataframe tbody tr th {\n",
       "        vertical-align: top;\n",
       "    }\n",
       "\n",
       "    .dataframe thead th {\n",
       "        text-align: right;\n",
       "    }\n",
       "</style>\n",
       "<table border=\"1\" class=\"dataframe\">\n",
       "  <thead>\n",
       "    <tr style=\"text-align: right;\">\n",
       "      <th></th>\n",
       "      <th>PATNO</th>\n",
       "      <th>SDMTOTAL</th>\n",
       "      <th>STAI_TOT</th>\n",
       "      <th>SFT_TOT</th>\n",
       "      <th>SCOPA_AUT_TOT</th>\n",
       "      <th>REMSLEEP_TOT</th>\n",
       "      <th>QUIP_A</th>\n",
       "      <th>QUIP_B</th>\n",
       "      <th>QUIP_C</th>\n",
       "      <th>QUIP_D</th>\n",
       "      <th>...</th>\n",
       "      <th>HVLT_TOT_Recall</th>\n",
       "      <th>HVLT_DCR_REC</th>\n",
       "      <th>HVLT_RETENTION</th>\n",
       "      <th>GDS_TOT</th>\n",
       "      <th>GDS_Depressed</th>\n",
       "      <th>ESS_TOT</th>\n",
       "      <th>ESS_Sleepy</th>\n",
       "      <th>BJLOT_TOT</th>\n",
       "      <th>COHORT</th>\n",
       "      <th>ENROLL_AGE</th>\n",
       "    </tr>\n",
       "  </thead>\n",
       "  <tbody>\n",
       "    <tr>\n",
       "      <th>1381</th>\n",
       "      <td>220373.0</td>\n",
       "      <td>29.00</td>\n",
       "      <td>75.00</td>\n",
       "      <td>13.00</td>\n",
       "      <td>10.00</td>\n",
       "      <td>3.00</td>\n",
       "      <td>0.0</td>\n",
       "      <td>0.00</td>\n",
       "      <td>0.00</td>\n",
       "      <td>0.00</td>\n",
       "      <td>...</td>\n",
       "      <td>21.00</td>\n",
       "      <td>10.00</td>\n",
       "      <td>0.75</td>\n",
       "      <td>3.00</td>\n",
       "      <td>0.0</td>\n",
       "      <td>5.00</td>\n",
       "      <td>0.00</td>\n",
       "      <td>11.00</td>\n",
       "      <td>3</td>\n",
       "      <td>60.5</td>\n",
       "    </tr>\n",
       "    <tr>\n",
       "      <th>102</th>\n",
       "      <td>3410.0</td>\n",
       "      <td>33.27</td>\n",
       "      <td>49.38</td>\n",
       "      <td>36.27</td>\n",
       "      <td>13.81</td>\n",
       "      <td>3.04</td>\n",
       "      <td>0.0</td>\n",
       "      <td>0.00</td>\n",
       "      <td>0.00</td>\n",
       "      <td>0.04</td>\n",
       "      <td>...</td>\n",
       "      <td>28.92</td>\n",
       "      <td>11.23</td>\n",
       "      <td>0.92</td>\n",
       "      <td>0.54</td>\n",
       "      <td>0.0</td>\n",
       "      <td>4.58</td>\n",
       "      <td>0.00</td>\n",
       "      <td>13.27</td>\n",
       "      <td>1</td>\n",
       "      <td>74.1</td>\n",
       "    </tr>\n",
       "    <tr>\n",
       "      <th>455</th>\n",
       "      <td>60123.0</td>\n",
       "      <td>37.36</td>\n",
       "      <td>73.00</td>\n",
       "      <td>41.39</td>\n",
       "      <td>20.38</td>\n",
       "      <td>6.53</td>\n",
       "      <td>0.0</td>\n",
       "      <td>0.08</td>\n",
       "      <td>0.04</td>\n",
       "      <td>0.08</td>\n",
       "      <td>...</td>\n",
       "      <td>20.47</td>\n",
       "      <td>8.55</td>\n",
       "      <td>0.73</td>\n",
       "      <td>4.00</td>\n",
       "      <td>0.0</td>\n",
       "      <td>6.03</td>\n",
       "      <td>0.06</td>\n",
       "      <td>12.38</td>\n",
       "      <td>3</td>\n",
       "      <td>71.8</td>\n",
       "    </tr>\n",
       "    <tr>\n",
       "      <th>978</th>\n",
       "      <td>116529.0</td>\n",
       "      <td>35.50</td>\n",
       "      <td>48.00</td>\n",
       "      <td>14.50</td>\n",
       "      <td>3.00</td>\n",
       "      <td>0.50</td>\n",
       "      <td>0.0</td>\n",
       "      <td>0.00</td>\n",
       "      <td>0.00</td>\n",
       "      <td>0.00</td>\n",
       "      <td>...</td>\n",
       "      <td>20.50</td>\n",
       "      <td>9.50</td>\n",
       "      <td>0.69</td>\n",
       "      <td>0.00</td>\n",
       "      <td>0.0</td>\n",
       "      <td>0.50</td>\n",
       "      <td>0.00</td>\n",
       "      <td>13.50</td>\n",
       "      <td>0</td>\n",
       "      <td>69.1</td>\n",
       "    </tr>\n",
       "    <tr>\n",
       "      <th>817</th>\n",
       "      <td>139996.0</td>\n",
       "      <td>22.00</td>\n",
       "      <td>90.00</td>\n",
       "      <td>19.00</td>\n",
       "      <td>26.00</td>\n",
       "      <td>4.00</td>\n",
       "      <td>0.0</td>\n",
       "      <td>0.00</td>\n",
       "      <td>0.00</td>\n",
       "      <td>0.00</td>\n",
       "      <td>...</td>\n",
       "      <td>24.00</td>\n",
       "      <td>12.00</td>\n",
       "      <td>0.67</td>\n",
       "      <td>3.00</td>\n",
       "      <td>0.0</td>\n",
       "      <td>1.00</td>\n",
       "      <td>0.00</td>\n",
       "      <td>6.00</td>\n",
       "      <td>3</td>\n",
       "      <td>77.8</td>\n",
       "    </tr>\n",
       "  </tbody>\n",
       "</table>\n",
       "<p>5 rows × 23 columns</p>\n",
       "</div>"
      ],
      "text/plain": [
       "         PATNO  SDMTOTAL  STAI_TOT  SFT_TOT  SCOPA_AUT_TOT  REMSLEEP_TOT  \\\n",
       "1381  220373.0     29.00     75.00    13.00          10.00          3.00   \n",
       "102     3410.0     33.27     49.38    36.27          13.81          3.04   \n",
       "455    60123.0     37.36     73.00    41.39          20.38          6.53   \n",
       "978   116529.0     35.50     48.00    14.50           3.00          0.50   \n",
       "817   139996.0     22.00     90.00    19.00          26.00          4.00   \n",
       "\n",
       "      QUIP_A  QUIP_B  QUIP_C  QUIP_D  ...  HVLT_TOT_Recall  HVLT_DCR_REC  \\\n",
       "1381     0.0    0.00    0.00    0.00  ...            21.00         10.00   \n",
       "102      0.0    0.00    0.00    0.04  ...            28.92         11.23   \n",
       "455      0.0    0.08    0.04    0.08  ...            20.47          8.55   \n",
       "978      0.0    0.00    0.00    0.00  ...            20.50          9.50   \n",
       "817      0.0    0.00    0.00    0.00  ...            24.00         12.00   \n",
       "\n",
       "      HVLT_RETENTION  GDS_TOT  GDS_Depressed  ESS_TOT  ESS_Sleepy  BJLOT_TOT  \\\n",
       "1381            0.75     3.00            0.0     5.00        0.00      11.00   \n",
       "102             0.92     0.54            0.0     4.58        0.00      13.27   \n",
       "455             0.73     4.00            0.0     6.03        0.06      12.38   \n",
       "978             0.69     0.00            0.0     0.50        0.00      13.50   \n",
       "817             0.67     3.00            0.0     1.00        0.00       6.00   \n",
       "\n",
       "      COHORT  ENROLL_AGE  \n",
       "1381       3        60.5  \n",
       "102        1        74.1  \n",
       "455        3        71.8  \n",
       "978        0        69.1  \n",
       "817        3        77.8  \n",
       "\n",
       "[5 rows x 23 columns]"
      ]
     },
     "execution_count": 45,
     "metadata": {},
     "output_type": "execute_result"
    }
   ],
   "source": [
    "f.sample(5)"
   ]
  },
  {
   "cell_type": "code",
   "execution_count": 46,
   "metadata": {},
   "outputs": [],
   "source": [
    "# mask = f['COHORT'] == 2\n",
    "# df = f[~mask]"
   ]
  },
  {
   "cell_type": "code",
   "execution_count": 47,
   "metadata": {},
   "outputs": [],
   "source": [
    "from imblearn.over_sampling import RandomOverSampler\n",
    "# define oversampling strategy\n",
    "oversample = RandomOverSampler(sampling_strategy='minority')"
   ]
  },
  {
   "cell_type": "code",
   "execution_count": 48,
   "metadata": {},
   "outputs": [],
   "source": [
    "X =  f.drop(['COHORT','PATNO'],axis=1)\n",
    "y= f['COHORT']\n",
    "\n",
    "X_train, X_test, y_train, y_test = train_test_split(X,y , \n",
    "                                   random_state=104,  \n",
    "                                   test_size=0.25,  \n",
    "                                   shuffle=True)"
   ]
  },
  {
   "cell_type": "code",
   "execution_count": 49,
   "metadata": {},
   "outputs": [],
   "source": [
    "import pandas as pd\n",
    "\n",
    "# Assuming f is a DataFrame\n",
    "f.to_csv('non_motor_final.csv', index=False)\n"
   ]
  },
  {
   "cell_type": "code",
   "execution_count": 50,
   "metadata": {},
   "outputs": [],
   "source": [
    "# fit and apply the transform\n",
    "X_over, y_over = oversample.fit_resample(X, y)"
   ]
  },
  {
   "cell_type": "code",
   "execution_count": 51,
   "metadata": {},
   "outputs": [],
   "source": [
    "X_train, X_test, y_train, y_test = train_test_split(X_over,y_over , \n",
    "                                   random_state=104,  \n",
    "                                   test_size=0.25,  \n",
    "                                   shuffle=True)"
   ]
  },
  {
   "cell_type": "code",
   "execution_count": 52,
   "metadata": {},
   "outputs": [
    {
     "name": "stdout",
     "output_type": "stream",
     "text": [
      "0.6871428571428572\n"
     ]
    }
   ],
   "source": [
    "svm = SVC(kernel=\"rbf\", gamma=\"auto\",probability=True)\n",
    "svm.fit(X_train,y_train)\n",
    "prediction = svm.predict(X_test)\n",
    "\n",
    "accuracy_SVM = accuracy_score(prediction, y_test)\n",
    "print(accuracy_SVM)"
   ]
  },
  {
   "cell_type": "code",
   "execution_count": 53,
   "metadata": {},
   "outputs": [
    {
     "name": "stdout",
     "output_type": "stream",
     "text": [
      "0.7178571428571429\n"
     ]
    }
   ],
   "source": [
    "dec = DecisionTreeClassifier(random_state=0)\n",
    "dec.fit(X_train,y_train)\n",
    "dec_pred = dec.predict(X_test)\n",
    "accuracy_DEC = accuracy_score(dec_pred, y_test)\n",
    "print(accuracy_DEC)"
   ]
  },
  {
   "cell_type": "code",
   "execution_count": 54,
   "metadata": {},
   "outputs": [
    {
     "name": "stdout",
     "output_type": "stream",
     "text": [
      "0.8\n"
     ]
    }
   ],
   "source": [
    "rand = RandomForestClassifier(max_depth=20, random_state=0)\n",
    "rand.fit(X_train,y_train)\n",
    "rand_pred = rand.predict(X_test)\n",
    "rand_accuracy = accuracy_score(rand_pred,y_test)\n",
    "print(rand_accuracy)"
   ]
  },
  {
   "cell_type": "code",
   "execution_count": 55,
   "metadata": {},
   "outputs": [
    {
     "name": "stdout",
     "output_type": "stream",
     "text": [
      "0.7107142857142857\n"
     ]
    }
   ],
   "source": [
    "from sklearn.neighbors import KNeighborsClassifier\n",
    "neigh = KNeighborsClassifier(n_neighbors=5)\n",
    "neigh.fit(X_train,y_train)\n",
    "neigh_pred = neigh.predict(X_test)\n",
    "neigh_accuracy = accuracy_score(neigh_pred,y_test)\n",
    "print(neigh_accuracy)"
   ]
  },
  {
   "cell_type": "code",
   "execution_count": 56,
   "metadata": {},
   "outputs": [
    {
     "name": "stdout",
     "output_type": "stream",
     "text": [
      "Gradient Boosting Classifier Accuracy: 0.7664285714285715\n"
     ]
    }
   ],
   "source": [
    "from sklearn.ensemble import GradientBoostingClassifier\n",
    "from sklearn.metrics import accuracy_score\n",
    "\n",
    "# Assuming X_train, X_test, y_train, and y_test are already defined\n",
    "\n",
    "# Initialize and train the gradient boosting classifier\n",
    "gb_clf = GradientBoostingClassifier()\n",
    "gb_clf.fit(X_train, y_train)\n",
    "\n",
    "# Make predictions on the test set\n",
    "gb_pred = gb_clf.predict(X_test)\n",
    "\n",
    "# Calculate accuracy\n",
    "gb_accuracy = accuracy_score(gb_pred, y_test)\n",
    "print(\"Gradient Boosting Classifier Accuracy:\", gb_accuracy)"
   ]
  },
  {
   "cell_type": "code",
   "execution_count": 57,
   "metadata": {},
   "outputs": [],
   "source": [
    "from sklearn.ensemble import VotingClassifier\n",
    "# Create a Soft Voting Classifier\n",
    "labels = ['Decision Forest', 'Random Forest', 'GB']\n",
    "voting_clf_hard = VotingClassifier(\n",
    "\testimators=[\n",
    "        (labels[0], dec),\n",
    "\t\t(labels[1], rand), # Include the second classifier \n",
    "\t\t(labels[2],gb_clf ), # Include the third classifier \n",
    "\t],\n",
    "\tvoting='hard' # Specify soft voting, where class probabilities are combined\n",
    ")\n"
   ]
  },
  {
   "cell_type": "code",
   "execution_count": 58,
   "metadata": {},
   "outputs": [
    {
     "name": "stdout",
     "output_type": "stream",
     "text": [
      "0.7964285714285714\n"
     ]
    }
   ],
   "source": [
    "voting_clf_hard.fit(X_train,y_train)\n",
    "V_hard_pred = voting_clf_hard.predict(X_test)\n",
    "voting_hard_accuracy = accuracy_score(V_hard_pred,y_test)\n",
    "print(voting_hard_accuracy)"
   ]
  },
  {
   "cell_type": "code",
   "execution_count": 59,
   "metadata": {},
   "outputs": [],
   "source": [
    "import pickle\n",
    "import joblib\n",
    "model=voting_clf_hard\n",
    "\n",
    "with open(\"model_nonMotor.pkl\", \"wb\") as f:\n",
    "    pickle.dump(model, f)\n",
    "    \n",
    "with open(\"model_nonMotor.pkl\", \"rb\") as f:\n",
    "    model = pickle.load(f)\n",
    "    \n",
    "joblib.dump(model, \"model_nonMotor.joblib\")\n",
    "model = joblib.load(\"model_nonMotor.joblib\")"
   ]
  },
  {
   "cell_type": "code",
   "execution_count": 60,
   "metadata": {},
   "outputs": [],
   "source": [
    "from sklearn.metrics import precision_score, recall_score, f1_score\n"
   ]
  },
  {
   "cell_type": "code",
   "execution_count": 61,
   "metadata": {},
   "outputs": [
    {
     "name": "stdout",
     "output_type": "stream",
     "text": [
      "Precision: 0.7964285714285714\n",
      "Recall: 0.7964285714285714\n",
      "F1 Score: 0.7964285714285714\n"
     ]
    }
   ],
   "source": [
    "# Calculate precision\n",
    "precision = precision_score(y_test, V_hard_pred,average=\"micro\")\n",
    "\n",
    "# Calculate recall\n",
    "recall = recall_score(y_test, V_hard_pred,average=\"micro\")\n",
    "\n",
    "# Calculate F1 score\n",
    "f1 = f1_score(y_test, V_hard_pred,average=\"micro\")\n",
    "\n",
    "print(\"Precision:\", precision)\n",
    "print(\"Recall:\", recall)\n",
    "print(\"F1 Score:\", f1)"
   ]
  },
  {
   "cell_type": "code",
   "execution_count": 62,
   "metadata": {},
   "outputs": [
    {
     "name": "stdout",
     "output_type": "stream",
     "text": [
      "Precision: 0.8\n",
      "Recall: 0.8\n",
      "F1 Score: 0.8\n"
     ]
    }
   ],
   "source": [
    "# Calculate precision\n",
    "precision = precision_score(y_test, rand_pred,average=\"micro\")\n",
    "\n",
    "# Calculate recall\n",
    "recall = recall_score(y_test, rand_pred,average=\"micro\")\n",
    "\n",
    "# Calculate F1 score\n",
    "f1 = f1_score(y_test, rand_pred,average=\"micro\")\n",
    "\n",
    "print(\"Precision:\", precision)\n",
    "print(\"Recall:\", recall)\n",
    "print(\"F1 Score:\", f1)"
   ]
  },
  {
   "cell_type": "code",
   "execution_count": 63,
   "metadata": {},
   "outputs": [
    {
     "name": "stdout",
     "output_type": "stream",
     "text": [
      "Cross-Validation Results (Accuracy): [0.69592875 0.67302799 0.68407643 0.6955414  0.71210191]\n",
      "Mean Accuracy: 0.692135297645095\n"
     ]
    }
   ],
   "source": [
    "num_folds = 5\n",
    "kf = KFold(n_splits=num_folds, shuffle=True, random_state=42)\n",
    "cross_val_results = cross_val_score(rand, X, y, cv=kf)\n",
    "print(f'Cross-Validation Results (Accuracy): {cross_val_results}')\n",
    "print(f'Mean Accuracy: {cross_val_results.mean()}')"
   ]
  },
  {
   "cell_type": "code",
   "execution_count": null,
   "metadata": {},
   "outputs": [],
   "source": []
  }
 ],
 "metadata": {
  "kernelspec": {
   "display_name": "Python 3",
   "language": "python",
   "name": "python3"
  },
  "language_info": {
   "codemirror_mode": {
    "name": "ipython",
    "version": 3
   },
   "file_extension": ".py",
   "mimetype": "text/x-python",
   "name": "python",
   "nbconvert_exporter": "python",
   "pygments_lexer": "ipython3",
   "version": "3.11.4"
  }
 },
 "nbformat": 4,
 "nbformat_minor": 2
}
